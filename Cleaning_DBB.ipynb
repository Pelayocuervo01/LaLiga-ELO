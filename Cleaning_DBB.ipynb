{
 "cells": [
  {
   "cell_type": "code",
   "execution_count": 7,
   "id": "21b7c6c6",
   "metadata": {},
   "outputs": [],
   "source": [
    "import polars as pl \n",
    "import pandas as pd \n",
    "import os\n",
    "from ELO_Engine import Elo_Engine"
   ]
  },
  {
   "cell_type": "code",
   "execution_count": 20,
   "id": "bb2e4840",
   "metadata": {},
   "outputs": [
    {
     "name": "stdout",
     "output_type": "stream",
     "text": [
      "Guardado: CLEAN_Ligas_Resultados_CSV/laliga_1995_1996_clean.csv\n"
     ]
    }
   ],
   "source": [
    "import polars as pl\n",
    "import os\n",
    "\n",
    "def limpiar_csv(año1, año2):\n",
    "    route = f\"Ligas_Resultados_CSV/laliga_{año1}_{año2}.csv\"\n",
    "\n",
    "    if not os.path.exists(route):\n",
    "        print(f\"No encontrado: {route}\")\n",
    "        return\n",
    "\n",
    "    df = pl.read_csv(route)\n",
    "    df = df.drop([\"Fecha\", \"Hora\", \"Estadio\", \"Resultado\"])\n",
    "    df = df.rename({\"Asistencia\": \"Resultado\"})\n",
    "\n",
    "    Jornada = df[\"Jornada\"].to_list()\n",
    "    Resultado = df[\"Resultado\"].to_list()\n",
    "\n",
    "    nueva_jornada = []\n",
    "    nuevo_resultado = []\n",
    "    nuevo_ganador = []\n",
    "    ultimo_year = []\n",
    "    diff_goles = []\n",
    "\n",
    "    # Limpiar columna Jornada\n",
    "    for i in Jornada:\n",
    "        nueva_colJor = i.split(\" \")[1].strip()\n",
    "        nueva_jornada.append(nueva_colJor)\n",
    "\n",
    "    df = df.with_columns(pl.Series(\"Jornada\", nueva_jornada))\n",
    "\n",
    "    # Limpiar columna Resultado\n",
    "    for i in Resultado:\n",
    "        nueva_colRes = i.split('(')[0].strip()\n",
    "        nuevo_resultado.append(nueva_colRes)\n",
    "    df = df.with_columns(pl.Series(\"Resultado\", nuevo_resultado))\n",
    "\n",
    "    # Calcular ganador y diferencia de goles\n",
    "    for idx, i in enumerate(Resultado):\n",
    "        score_str = i.split('(')[0].strip()\n",
    "        local_score = int(score_str.split(':')[0].strip())\n",
    "        visitante_score = int(score_str.split(':')[1].strip())\n",
    "        if local_score > visitante_score:\n",
    "            ganador = df[\"Local\"][idx]\n",
    "        elif local_score < visitante_score:\n",
    "            ganador = df[\"Visitante\"][idx]\n",
    "        else:\n",
    "            ganador = \"Empate\"\n",
    "        nuevo_ganador.append(ganador)\n",
    "        diff_gol = abs(local_score - visitante_score)\n",
    "        diff_goles.append(diff_gol)\n",
    "\n",
    "    df = df.with_columns(pl.Series(\"Differencia Gol\", diff_goles))\n",
    "    df = df.with_columns(pl.Series(\"Ganador\", nuevo_ganador))\n",
    "\n",
    "    # Extraemos el año\n",
    "    for i in Jornada:\n",
    "        if '(' in i and ')' in i:\n",
    "            year_part = i.split('(')[1].split(')')[0].strip()\n",
    "            ultimo_year.append(year_part)\n",
    "        else:\n",
    "            ultimo_year.append(\"\")\n",
    "    df = df.with_columns(pl.Series(\"Año\", ultimo_year))\n",
    "\n",
    "    # Convertimos la columna Jornada a int\n",
    "    df = df.with_columns(\n",
    "        pl.col(\"Jornada\").cast(pl.Int64)\n",
    "    )\n",
    "\n",
    "    salida = f\"CLEAN_Ligas_Resultados_CSV/laliga_{año1}_{año2}_clean.csv\"\n",
    "    df.write_csv(salida)\n",
    "    print(f\"Guardado: {salida}\")\n",
    "\n",
    "\n",
    "# \n",
    "for año1 in range(1995, 1996):\n",
    "    año2 = año1 + 1\n",
    "    limpiar_csv(año1, año2)\n"
   ]
  },
  {
   "cell_type": "code",
   "execution_count": 19,
   "id": "cc8adec8",
   "metadata": {},
   "outputs": [
    {
     "data": {
      "text/html": [
       "<div><style>\n",
       ".dataframe > thead > tr,\n",
       ".dataframe > tbody > tr {\n",
       "  text-align: right;\n",
       "  white-space: pre-wrap;\n",
       "}\n",
       "</style>\n",
       "<small>shape: (380, 7)</small><table border=\"1\" class=\"dataframe\"><thead><tr><th>Jornada</th><th>Local</th><th>Visitante</th><th>Resultado</th><th>Differencia Gol</th><th>Ganador</th><th>Año</th></tr><tr><td>i64</td><td>str</td><td>str</td><td>str</td><td>i64</td><td>str</td><td>str</td></tr></thead><tbody><tr><td>1</td><td>&quot;Athletic&quot;</td><td>&quot;Getafe&quot;</td><td>&quot;1:1&quot;</td><td>0</td><td>&quot;Empate&quot;</td><td>&quot;2024/2025&quot;</td></tr><tr><td>1</td><td>&quot;Betis&quot;</td><td>&quot;Girona&quot;</td><td>&quot;1:1&quot;</td><td>0</td><td>&quot;Empate&quot;</td><td>&quot;2024/2025&quot;</td></tr><tr><td>1</td><td>&quot;Celta&quot;</td><td>&quot;Alavés&quot;</td><td>&quot;2:1&quot;</td><td>1</td><td>&quot;Celta&quot;</td><td>&quot;2024/2025&quot;</td></tr><tr><td>1</td><td>&quot;Las Palmas&quot;</td><td>&quot;Sevilla&quot;</td><td>&quot;2:2&quot;</td><td>0</td><td>&quot;Empate&quot;</td><td>&quot;2024/2025&quot;</td></tr><tr><td>1</td><td>&quot;Osasuna&quot;</td><td>&quot;Leganés&quot;</td><td>&quot;1:1&quot;</td><td>0</td><td>&quot;Empate&quot;</td><td>&quot;2024/2025&quot;</td></tr><tr><td>&hellip;</td><td>&hellip;</td><td>&hellip;</td><td>&hellip;</td><td>&hellip;</td><td>&hellip;</td><td>&hellip;</td></tr><tr><td>38</td><td>&quot;Getafe&quot;</td><td>&quot;Celta&quot;</td><td>&quot;1:2&quot;</td><td>1</td><td>&quot;Celta&quot;</td><td>&quot;2024/2025&quot;</td></tr><tr><td>38</td><td>&quot;Rayo&quot;</td><td>&quot;Mallorca&quot;</td><td>&quot;0:0&quot;</td><td>0</td><td>&quot;Empate&quot;</td><td>&quot;2024/2025&quot;</td></tr><tr><td>38</td><td>&quot;Girona&quot;</td><td>&quot;Atlético&quot;</td><td>&quot;0:4&quot;</td><td>4</td><td>&quot;Atlético&quot;</td><td>&quot;2024/2025&quot;</td></tr><tr><td>38</td><td>&quot;Villarreal&quot;</td><td>&quot;Sevilla&quot;</td><td>&quot;4:2&quot;</td><td>2</td><td>&quot;Villarreal&quot;</td><td>&quot;2024/2025&quot;</td></tr><tr><td>38</td><td>&quot;Athletic&quot;</td><td>&quot;Barcelona&quot;</td><td>&quot;0:3&quot;</td><td>3</td><td>&quot;Barcelona&quot;</td><td>&quot;2024/2025&quot;</td></tr></tbody></table></div>"
      ],
      "text/plain": [
       "shape: (380, 7)\n",
       "┌─────────┬────────────┬───────────┬───────────┬─────────────────┬────────────┬───────────┐\n",
       "│ Jornada ┆ Local      ┆ Visitante ┆ Resultado ┆ Differencia Gol ┆ Ganador    ┆ Año       │\n",
       "│ ---     ┆ ---        ┆ ---       ┆ ---       ┆ ---             ┆ ---        ┆ ---       │\n",
       "│ i64     ┆ str        ┆ str       ┆ str       ┆ i64             ┆ str        ┆ str       │\n",
       "╞═════════╪════════════╪═══════════╪═══════════╪═════════════════╪════════════╪═══════════╡\n",
       "│ 1       ┆ Athletic   ┆ Getafe    ┆ 1:1       ┆ 0               ┆ Empate     ┆ 2024/2025 │\n",
       "│ 1       ┆ Betis      ┆ Girona    ┆ 1:1       ┆ 0               ┆ Empate     ┆ 2024/2025 │\n",
       "│ 1       ┆ Celta      ┆ Alavés    ┆ 2:1       ┆ 1               ┆ Celta      ┆ 2024/2025 │\n",
       "│ 1       ┆ Las Palmas ┆ Sevilla   ┆ 2:2       ┆ 0               ┆ Empate     ┆ 2024/2025 │\n",
       "│ 1       ┆ Osasuna    ┆ Leganés   ┆ 1:1       ┆ 0               ┆ Empate     ┆ 2024/2025 │\n",
       "│ …       ┆ …          ┆ …         ┆ …         ┆ …               ┆ …          ┆ …         │\n",
       "│ 38      ┆ Getafe     ┆ Celta     ┆ 1:2       ┆ 1               ┆ Celta      ┆ 2024/2025 │\n",
       "│ 38      ┆ Rayo       ┆ Mallorca  ┆ 0:0       ┆ 0               ┆ Empate     ┆ 2024/2025 │\n",
       "│ 38      ┆ Girona     ┆ Atlético  ┆ 0:4       ┆ 4               ┆ Atlético   ┆ 2024/2025 │\n",
       "│ 38      ┆ Villarreal ┆ Sevilla   ┆ 4:2       ┆ 2               ┆ Villarreal ┆ 2024/2025 │\n",
       "│ 38      ┆ Athletic   ┆ Barcelona ┆ 0:3       ┆ 3               ┆ Barcelona  ┆ 2024/2025 │\n",
       "└─────────┴────────────┴───────────┴───────────┴─────────────────┴────────────┴───────────┘"
      ]
     },
     "execution_count": 19,
     "metadata": {},
     "output_type": "execute_result"
    }
   ],
   "source": [
    "routex = f\"CLEAN_Ligas_Resultados_CSV/laliga_2024_2025_clean.csv\"\n",
    "df = pl.read_csv(routex)\n",
    "df"
   ]
  },
  {
   "cell_type": "code",
   "execution_count": null,
   "id": "716659eb",
   "metadata": {},
   "outputs": [],
   "source": [
    "# Lee el archivo elo.csv y añade los equipos que no están en elo.csv\n",
    "elo_path = f\"ELO/ELO_{año1}_{año2}.csv\"\n",
    "\n",
    "if not os.path.exists(elo_path):\n",
    "    # Crea el DataFrame vacío con las columnas necesarias\n",
    "    elo_df = pd.DataFrame(columns=[\"Equipo\", \"elo\"])\n",
    "    elo_df.to_csv(elo_path, index=False)\n",
    "else:\n",
    "    elo_df = pd.read_csv(elo_path)\n",
    "\n",
    "unique = df[\"Local\"].unique().to_list()\n",
    "equipos_elo = set(elo_df[\"Equipo\"])\n",
    "\n",
    "\n",
    "nuevos_equipos = []\n",
    "\n",
    "for equipo in unique:\n",
    "    if equipo not in equipos_elo:\n",
    "        nuevos_equipos.append({\"Equipo\": equipo, \"elo\": 1000})\n",
    "\n",
    "if nuevos_equipos:\n",
    "    nuevos_df = pd.DataFrame(nuevos_equipos)\n",
    "    elo_df = pd.concat([elo_df, nuevos_df], ignore_index=True)\n"
   ]
  }
 ],
 "metadata": {
  "kernelspec": {
   "display_name": "Python 3",
   "language": "python",
   "name": "python3"
  },
  "language_info": {
   "codemirror_mode": {
    "name": "ipython",
    "version": 3
   },
   "file_extension": ".py",
   "mimetype": "text/x-python",
   "name": "python",
   "nbconvert_exporter": "python",
   "pygments_lexer": "ipython3",
   "version": "3.11.9"
  }
 },
 "nbformat": 4,
 "nbformat_minor": 5
}
