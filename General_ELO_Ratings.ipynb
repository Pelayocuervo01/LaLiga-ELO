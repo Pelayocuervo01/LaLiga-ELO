{
 "cells": [
  {
   "cell_type": "code",
   "execution_count": null,
   "id": "c48684d7",
   "metadata": {},
   "outputs": [],
   "source": [
    "import pandas as pd\n",
    "import os\n",
    "\n",
    "def General_Elo_Ratings(año1, año2):\n",
    "    ruta = f\"ELO/ELO_{año1}_{año2}.csv\"\n",
    "    ruta_general = \"General_ELO.csv\"\n",
    "\n",
    "    if not os.path.exists(ruta):\n",
    "        print(f\"No existe: {ruta}\")\n",
    "        return\n",
    "    \n",
    "    df = pd.read_csv(ruta)\n",
    "    jornada_max = df['Jornada'].max()\n",
    "\n",
    "    df_ultima = df[df['Jornada'] == jornada_max].copy()\n",
    "\n",
    "    df_ultima = df_ultima.drop(columns=[\"Jornada\"])\n",
    "\n",
    "    df_ultima[\"Año\"] = f\"{año1}/{año2}\"\n",
    "    df_ultima = df_ultima[[\"Año\", \"Equipo\", \"ELO\"]]\n",
    "\n",
    "    general_elo_df = pd.concat([general_elo_df, df_ultima], ignore_index=True)\n",
    "    general_elo_df.to_csv(ruta_general, index=False)\n",
    "\n",
    "    print(f\"Añadida temporada {año1}/{año2} a {ruta_general}\")\n",
    "\n",
    "for año1 in range(1928, 2025):\n",
    "    año2 = año1 + 1\n",
    "    General_Elo_Ratings(año1, año2)\n"
   ]
  },
  {
   "cell_type": "code",
   "execution_count": null,
   "id": "9fc3a499",
   "metadata": {},
   "outputs": [],
   "source": [
    "df = pd.read_csv(\"General_ELO.csv\")\n",
    "\n",
    "df = df[[\"Año\", \"Equipo\", \"ELO\"]]\n",
    "\n",
    "df.to_csv(\"General_ELO.csv\", index=False)"
   ]
  }
 ],
 "metadata": {
  "kernelspec": {
   "display_name": "Python 3",
   "language": "python",
   "name": "python3"
  },
  "language_info": {
   "codemirror_mode": {
    "name": "ipython",
    "version": 3
   },
   "file_extension": ".py",
   "mimetype": "text/x-python",
   "name": "python",
   "nbconvert_exporter": "python",
   "pygments_lexer": "ipython3",
   "version": "3.11.9"
  }
 },
 "nbformat": 4,
 "nbformat_minor": 5
}
